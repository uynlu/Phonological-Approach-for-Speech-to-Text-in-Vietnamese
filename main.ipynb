{
 "cells": [
  {
   "cell_type": "markdown",
   "metadata": {},
   "source": [
    "# Import modules"
   ]
  },
  {
   "cell_type": "code",
   "execution_count": 1,
   "metadata": {},
   "outputs": [],
   "source": [
    "# from dataset.speech.convert_mp3_to_wav import convert_mp3_to_wav\n",
    "from dataset.dataset import CustomDataset"
   ]
  },
  {
   "cell_type": "code",
   "execution_count": 2,
   "metadata": {},
   "outputs": [],
   "source": [
    "import torch\n",
    "from torch.utils.data import ConcatDataset, DataLoader"
   ]
  },
  {
   "cell_type": "markdown",
   "metadata": {},
   "source": [
    "# Dataset"
   ]
  },
  {
   "cell_type": "code",
   "execution_count": 3,
   "metadata": {},
   "outputs": [],
   "source": [
    "# convert_mp3_to_wav(\"Vietnamese-Speech-to-Text-datasets//Common-Voice\")\n",
    "# convert_mp3_to_wav(\"Vietnamese-Speech-to-Text-datasets//ViVOS\")"
   ]
  },
  {
   "cell_type": "markdown",
   "metadata": {},
   "source": [
    "## Load dataset"
   ]
  },
  {
   "cell_type": "code",
   "execution_count": 4,
   "metadata": {},
   "outputs": [],
   "source": [
    "SAMPLE_RATE = 16000\n",
    "NUM_SAMPLE = 55000  # Chọn tạm để test (nên chọn lại)\n",
    "TRANSFORMATION = \"MFCC\"\n",
    "MAX_LEN = 10  # Chọn tạm để test (nên chọn lại)"
   ]
  },
  {
   "cell_type": "code",
   "execution_count": 5,
   "metadata": {},
   "outputs": [],
   "source": [
    "common_voice_train = CustomDataset(\n",
    "    audio_directory=\"Vietnamese-Speech-to-Text-datasets//Common-Voice//converted voices\",\n",
    "    data_directory=\"Vietnamese-Speech-to-Text-datasets//Common-Voice//train.json\",\n",
    "    target_sample_rate=SAMPLE_RATE,\n",
    "    num_samples = NUM_SAMPLE,\n",
    "    transformation=TRANSFORMATION,\n",
    "    max_len=MAX_LEN\n",
    ")\n",
    "\n",
    "common_voice_dev = CustomDataset(\n",
    "    audio_directory=\"Vietnamese-Speech-to-Text-datasets//Common-Voice//converted voices\",\n",
    "    data_directory=\"Vietnamese-Speech-to-Text-datasets//Common-Voice//dev.json\",\n",
    "    target_sample_rate=SAMPLE_RATE,\n",
    "    num_samples = NUM_SAMPLE,\n",
    "    transformation=TRANSFORMATION,\n",
    "    max_len=MAX_LEN\n",
    ")\n",
    "\n",
    "common_voice_test = CustomDataset(\n",
    "    audio_directory=\"Vietnamese-Speech-to-Text-datasets//Common-Voice//converted voices\",\n",
    "    data_directory=\"Vietnamese-Speech-to-Text-datasets//Common-Voice//test.json\",\n",
    "    target_sample_rate=SAMPLE_RATE,\n",
    "    num_samples = NUM_SAMPLE,\n",
    "    transformation=TRANSFORMATION,\n",
    "    max_len=MAX_LEN\n",
    ")"
   ]
  },
  {
   "cell_type": "code",
   "execution_count": 7,
   "metadata": {},
   "outputs": [],
   "source": [
    "vivos_train = CustomDataset(\n",
    "    audio_directory=\"Vietnamese-Speech-to-Text-datasets//ViVOS//converted voices\",\n",
    "    data_directory=\"Vietnamese-Speech-to-Text-datasets//ViVOS//train.json\",\n",
    "    target_sample_rate=SAMPLE_RATE,\n",
    "    num_samples = NUM_SAMPLE,\n",
    "    transformation=TRANSFORMATION,\n",
    "    max_len=MAX_LEN\n",
    ")\n",
    "\n",
    "vivos_test = CustomDataset(\n",
    "    audio_directory=\"Vietnamese-Speech-to-Text-datasets//ViVOS//converted voices\",\n",
    "    data_directory=\"Vietnamese-Speech-to-Text-datasets//ViVOS//test.json\",\n",
    "    target_sample_rate=SAMPLE_RATE,\n",
    "    num_samples = NUM_SAMPLE,\n",
    "    transformation=TRANSFORMATION,\n",
    "    max_len=MAX_LEN\n",
    ")"
   ]
  },
  {
   "cell_type": "markdown",
   "metadata": {},
   "source": [
    "## Load dataloader"
   ]
  },
  {
   "cell_type": "code",
   "execution_count": 8,
   "metadata": {},
   "outputs": [],
   "source": [
    "BATCH_SIZE = 64"
   ]
  },
  {
   "cell_type": "code",
   "execution_count": 9,
   "metadata": {},
   "outputs": [],
   "source": [
    "dataset = ConcatDataset([common_voice_train, common_voice_dev, common_voice_test, vivos_train, vivos_test])"
   ]
  },
  {
   "cell_type": "code",
   "execution_count": 10,
   "metadata": {},
   "outputs": [],
   "source": [
    "train_dataset, test_dataset = torch.utils.data.random_split(dataset, [0.8, 0.2])\n",
    "train_dataset, dev_dataset = torch.utils.data.random_split(train_dataset, [0.8, 0.2])"
   ]
  },
  {
   "cell_type": "code",
   "execution_count": 11,
   "metadata": {},
   "outputs": [],
   "source": [
    "train_loader = DataLoader(\n",
    "    train_dataset,\n",
    "    batch_size=BATCH_SIZE,\n",
    "    shuffle=True\n",
    ")\n",
    "dev_loader = DataLoader(\n",
    "    dev_dataset,\n",
    "    batch_size=BATCH_SIZE,\n",
    "    shuffle=True\n",
    ")\n",
    "test_loader = DataLoader(\n",
    "    test_dataset,\n",
    "    batch_size=BATCH_SIZE,\n",
    "    shuffle=True\n",
    ")"
   ]
  },
  {
   "cell_type": "code",
   "execution_count": null,
   "metadata": {},
   "outputs": [],
   "source": []
  }
 ],
 "metadata": {
  "kernelspec": {
   "display_name": "venv",
   "language": "python",
   "name": "python3"
  },
  "language_info": {
   "codemirror_mode": {
    "name": "ipython",
    "version": 3
   },
   "file_extension": ".py",
   "mimetype": "text/x-python",
   "name": "python",
   "nbconvert_exporter": "python",
   "pygments_lexer": "ipython3",
   "version": "3.12.3"
  }
 },
 "nbformat": 4,
 "nbformat_minor": 2
}
