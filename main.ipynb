{
 "cells": [
  {
   "cell_type": "markdown",
   "metadata": {},
   "source": [
    "# Import modules"
   ]
  },
  {
   "cell_type": "code",
   "execution_count": 1,
   "metadata": {},
   "outputs": [],
   "source": [
    "# from dataset.speech.convert_mp3_to_wav import convert_mp3_to_wav\n",
    "from dataset.dataset import CustomDataset\n",
    "from dataset.text.vocabulary import PhonemeVocabv2, Vocabulary"
   ]
  },
  {
   "cell_type": "code",
   "execution_count": 2,
   "metadata": {},
   "outputs": [],
   "source": [
    "import torch\n",
    "from torch.utils.data import ConcatDataset, DataLoader\n",
    "import torch.optim as optim"
   ]
  },
  {
   "cell_type": "code",
   "execution_count": 3,
   "metadata": {},
   "outputs": [
    {
     "name": "stderr",
     "output_type": "stream",
     "text": [
      "e:\\UIT\\NCKH\\Phonological Approach for Speech to Text in Vietnamese\\Source code\\.venv\\Lib\\site-packages\\tqdm\\auto.py:21: TqdmWarning: IProgress not found. Please update jupyter and ipywidgets. See https://ipywidgets.readthedocs.io/en/stable/user_install.html\n",
      "  from .autonotebook import tqdm as notebook_tqdm\n",
      "INFO:speechbrain.utils.quirks:Applied quirks (see `speechbrain.utils.quirks`): [allow_tf32, disable_jit_profiling]\n",
      "INFO:speechbrain.utils.quirks:Excluded quirks specified by the `SB_DISABLE_QUIRKS` environment (comma-separated list): []\n",
      "INFO:speechbrain.nnet.loss.transducer_loss:Numba verbose is deactivated. To enable it, set NUMBA_VERBOSE to 1.\n"
     ]
    }
   ],
   "source": [
    "from model.rnnt.rnnt import RNNT"
   ]
  },
  {
   "cell_type": "code",
   "execution_count": 4,
   "metadata": {},
   "outputs": [],
   "source": [
    "from train import Trainer"
   ]
  },
  {
   "cell_type": "markdown",
   "metadata": {},
   "source": [
    "# Dataset"
   ]
  },
  {
   "cell_type": "code",
   "execution_count": 5,
   "metadata": {},
   "outputs": [],
   "source": [
    "# convert_mp3_to_wav(\"Vietnamese-Speech-to-Text-datasets//Common-Voice\")\n",
    "# convert_mp3_to_wav(\"Vietnamese-Speech-to-Text-datasets//ViVOS\")"
   ]
  },
  {
   "cell_type": "markdown",
   "metadata": {},
   "source": [
    "## Load dataset"
   ]
  },
  {
   "cell_type": "code",
   "execution_count": 6,
   "metadata": {},
   "outputs": [],
   "source": [
    "paths = [\n",
    "    # \"Vietnamese-Speech-to-Text-datasets//Common-Voice//train.json\",\n",
    "    # \"Vietnamese-Speech-to-Text-datasets//Common-Voice//dev.json\",\n",
    "    # \"Vietnamese-Speech-to-Text-datasets//Common-Voice//test.json\",\n",
    "    \"Vietnamese-Speech-to-Text-datasets//ViVOS//train.json\",\n",
    "    \"Vietnamese-Speech-to-Text-datasets//ViVOS//test.json\"\n",
    "]"
   ]
  },
  {
   "cell_type": "code",
   "execution_count": 7,
   "metadata": {},
   "outputs": [],
   "source": [
    "SAMPLE_RATE = 16000\n",
    "NUM_SAMPLE = 55000  # Chọn tạm để test (nên chọn lại)\n",
    "TRANSFORMATION = \"MFCC\"\n",
    "VOCAB = Vocabulary(paths)\n",
    "MAX_LEN = VOCAB.max_len"
   ]
  },
  {
   "cell_type": "code",
   "execution_count": 8,
   "metadata": {},
   "outputs": [],
   "source": [
    "# common_voice_train = CustomDataset(\n",
    "#     audio_directory=\"Vietnamese-Speech-to-Text-datasets//Common-Voice//converted voices\",\n",
    "#     data_directory=\"Vietnamese-Speech-to-Text-datasets//Common-Voice//train.json\",\n",
    "#     vocab=VOCAB,\n",
    "#     target_sample_rate=SAMPLE_RATE,\n",
    "#     num_samples = NUM_SAMPLE,\n",
    "#     transformation=TRANSFORMATION,\n",
    "#     max_len=MAX_LEN\n",
    "# )\n",
    "\n",
    "# common_voice_dev = CustomDataset(\n",
    "#     audio_directory=\"Vietnamese-Speech-to-Text-datasets//Common-Voice//converted voices\",\n",
    "#     data_directory=\"Vietnamese-Speech-to-Text-datasets//Common-Voice//dev.json\",\n",
    "#     vocab=VOCAB,\n",
    "#     target_sample_rate=SAMPLE_RATE,\n",
    "#     num_samples = NUM_SAMPLE,\n",
    "#     transformation=TRANSFORMATION,\n",
    "#     max_len=MAX_LEN\n",
    "# )\n",
    "\n",
    "# common_voice_test = CustomDataset(\n",
    "#     audio_directory=\"Vietnamese-Speech-to-Text-datasets//Common-Voice//converted voices\",\n",
    "#     data_directory=\"Vietnamese-Speech-to-Text-datasets//Common-Voice//test.json\",\n",
    "#     vocab=VOCAB,\n",
    "#     target_sample_rate=SAMPLE_RATE,\n",
    "#     num_samples = NUM_SAMPLE,\n",
    "#     transformation=TRANSFORMATION,\n",
    "#     max_len=MAX_LEN\n",
    "# )"
   ]
  },
  {
   "cell_type": "code",
   "execution_count": 9,
   "metadata": {},
   "outputs": [],
   "source": [
    "vivos_train = CustomDataset(\n",
    "    audio_directory=\"Vietnamese-Speech-to-Text-datasets//ViVOS//converted voices\",\n",
    "    data_directory=\"Vietnamese-Speech-to-Text-datasets//ViVOS//train.json\",\n",
    "    vocab=VOCAB,\n",
    "    target_sample_rate=SAMPLE_RATE,\n",
    "    num_samples = NUM_SAMPLE,\n",
    "    transformation=TRANSFORMATION,\n",
    "    max_len=MAX_LEN\n",
    ")\n",
    "\n",
    "vivos_test = CustomDataset(\n",
    "    audio_directory=\"Vietnamese-Speech-to-Text-datasets//ViVOS//converted voices\",\n",
    "    data_directory=\"Vietnamese-Speech-to-Text-datasets//ViVOS//test.json\",\n",
    "    vocab=VOCAB,\n",
    "    target_sample_rate=SAMPLE_RATE,\n",
    "    num_samples = NUM_SAMPLE,\n",
    "    transformation=TRANSFORMATION,\n",
    "    max_len=MAX_LEN\n",
    ")"
   ]
  },
  {
   "cell_type": "markdown",
   "metadata": {},
   "source": [
    "## Load dataloader"
   ]
  },
  {
   "cell_type": "code",
   "execution_count": 10,
   "metadata": {},
   "outputs": [],
   "source": [
    "BATCH_SIZE = 64"
   ]
  },
  {
   "cell_type": "code",
   "execution_count": 11,
   "metadata": {},
   "outputs": [],
   "source": [
    "# dataset = ConcatDataset([common_voice_train, common_voice_dev, common_voice_test, vivos_train, vivos_test])"
   ]
  },
  {
   "cell_type": "code",
   "execution_count": 12,
   "metadata": {},
   "outputs": [],
   "source": [
    "# train_dataset, test_dataset = torch.utils.data.random_split(dataset, [0.8, 0.2])\n",
    "# train_dataset, dev_dataset = torch.utils.data.random_split(train_dataset, [0.8, 0.2])"
   ]
  },
  {
   "cell_type": "code",
   "execution_count": 13,
   "metadata": {},
   "outputs": [],
   "source": [
    "# train_loader = DataLoader(\n",
    "#     train_dataset,\n",
    "#     batch_size=BATCH_SIZE,\n",
    "#     shuffle=True\n",
    "# )\n",
    "# dev_loader = DataLoader(\n",
    "#     dev_dataset,\n",
    "#     batch_size=BATCH_SIZE,\n",
    "#     shuffle=True\n",
    "# )\n",
    "# test_loader = DataLoader(\n",
    "#     test_dataset,\n",
    "#     batch_size=BATCH_SIZE,\n",
    "#     shuffle=True\n",
    "# )"
   ]
  },
  {
   "cell_type": "code",
   "execution_count": 14,
   "metadata": {},
   "outputs": [],
   "source": [
    "train_loader = DataLoader(\n",
    "    vivos_train,\n",
    "    batch_size=BATCH_SIZE,\n",
    "    shuffle=True\n",
    ")\n",
    "dev_loader = DataLoader(\n",
    "    vivos_test,\n",
    "    batch_size=BATCH_SIZE,\n",
    "    shuffle=True\n",
    ")"
   ]
  },
  {
   "cell_type": "markdown",
   "metadata": {},
   "source": [
    "# Train model"
   ]
  },
  {
   "cell_type": "code",
   "execution_count": null,
   "metadata": {},
   "outputs": [],
   "source": [
    "device = torch.device('cuda' if torch.cuda.is_available() else 'cpu')"
   ]
  },
  {
   "cell_type": "code",
   "execution_count": 15,
   "metadata": {},
   "outputs": [],
   "source": [
    "rnnt = RNNT(\n",
    "    vocab=VOCAB,\n",
    "    input_size=50,\n",
    "    device=device\n",
    ")"
   ]
  },
  {
   "cell_type": "code",
   "execution_count": null,
   "metadata": {},
   "outputs": [
    {
     "name": "stderr",
     "output_type": "stream",
     "text": [
      "C:\\Users\\uyenl\\AppData\\Local\\Programs\\Python\\Python312\\Lib\\inspect.py:1007: UserWarning: Module 'speechbrain.pretrained' was deprecated, redirecting to 'speechbrain.inference'. Please update your script. This is a change from SpeechBrain 1.0. See: https://github.com/speechbrain/speechbrain/releases/tag/v1.0.0\n",
      "  if ismodule(module) and hasattr(module, '__file__'):\n",
      "  0%|          | 0/183 [00:00<?, ?it/s]"
     ]
    }
   ],
   "source": [
    "trainer = Trainer(model=rnnt, lr=0.0003, vocab=VOCAB, device=device)\n",
    "NUM_EPOCHS = 10\n",
    "train_losses = []\n",
    "test_losses = []\n",
    "\n",
    "for epoch in range(NUM_EPOCHS):\n",
    "    train_loss = trainer.train(train_loader=train_loader, max_len=MAX_LEN)\n",
    "    test_loss = trainer.test(dev_loader=dev_loader, max_len=MAX_LEN)\n",
    "    train_losses.append(train_loss)\n",
    "    test_losses.append(test_loss)\n",
    "    print(\"Epoch %d: train loss = %f, test loss = %f\" % (epoch, train_loss, test_loss))"
   ]
  },
  {
   "cell_type": "code",
   "execution_count": null,
   "metadata": {},
   "outputs": [],
   "source": []
  }
 ],
 "metadata": {
  "kernelspec": {
   "display_name": ".venv",
   "language": "python",
   "name": "python3"
  },
  "language_info": {
   "codemirror_mode": {
    "name": "ipython",
    "version": 3
   },
   "file_extension": ".py",
   "mimetype": "text/x-python",
   "name": "python",
   "nbconvert_exporter": "python",
   "pygments_lexer": "ipython3",
   "version": "3.12.8"
  }
 },
 "nbformat": 4,
 "nbformat_minor": 2
}
