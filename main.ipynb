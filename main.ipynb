{
 "cells": [
  {
   "cell_type": "markdown",
   "metadata": {},
   "source": [
    "# Import modules"
   ]
  },
  {
   "cell_type": "code",
   "execution_count": null,
   "metadata": {},
   "outputs": [],
   "source": [
    "from dataset.speech.convert_mp3_to_wav import convert_mp3_to_wav\n",
    "from dataset.text.vocabulary import Vocabulary\n",
    "from dataset.dataset import CustomDataset"
   ]
  },
  {
   "cell_type": "markdown",
   "metadata": {},
   "source": [
    "# Dataset"
   ]
  },
  {
   "cell_type": "code",
   "execution_count": null,
   "metadata": {},
   "outputs": [],
   "source": [
    "convert_mp3_to_wav(\"dataset//Vietnamese-Speech-to-Text-datasets//Common-Voice\")\n",
    "convert_mp3_to_wav(\"dataset//Vietnamese-Speech-to-Text-datasets//ViVOS\")"
   ]
  },
  {
   "cell_type": "code",
   "execution_count": null,
   "metadata": {},
   "outputs": [],
   "source": [
    "SAMPLE_RATE = 16000\n",
    "NUM_SAMPLE = 55000 # Chưa chọn được\n",
    "TRANSFORMATION = \"MFCC\"\n",
    "VOCAB = Vocabulary()"
   ]
  },
  {
   "cell_type": "code",
   "execution_count": null,
   "metadata": {},
   "outputs": [],
   "source": [
    "common_voice_train = CustomDataset(\n",
    "    audio_directory=\"dataset//Vietnamese-Speech-to-Text-datasets//Common-Voice//converted voices\",\n",
    "    data_directory=\"dataset//Vietnamese-Speech-to-Text-datasets//Common-Voice//train\",\n",
    "    target_sample_rate=SAMPLE_RATE,\n",
    "    num_samples = NUM_SAMPLE,\n",
    "    transformation=TRANSFORMATION,\n",
    "    vocab=VOCAB\n",
    ")\n",
    "\n",
    "common_voice_dev = CustomDataset(\n",
    "    audio_directory=\"dataset//Vietnamese-Speech-to-Text-datasets//Common-Voice//converted voices\",\n",
    "    data_directory=\"dataset//Vietnamese-Speech-to-Text-datasets//Common-Voice//dev\",\n",
    "    target_sample_rate=SAMPLE_RATE,\n",
    "    num_samples = NUM_SAMPLE,\n",
    "    transformation=TRANSFORMATION,\n",
    "    vocab=VOCAB\n",
    ")\n",
    "\n",
    "common_voice_test = CustomDataset(\n",
    "    audio_directory=\"dataset//Vietnamese-Speech-to-Text-datasets//Common-Voice//converted voices\",\n",
    "    data_directory=\"dataset//Vietnamese-Speech-to-Text-datasets//Common-Voice//test\",\n",
    "    target_sample_rate=SAMPLE_RATE,\n",
    "    num_samples = NUM_SAMPLE,\n",
    "    transformation=TRANSFORMATION,\n",
    "    vocab=VOCAB\n",
    ")"
   ]
  },
  {
   "cell_type": "code",
   "execution_count": null,
   "metadata": {},
   "outputs": [],
   "source": [
    "vivos_train = CustomDataset(\n",
    "    audio_directory=\"dataset//Vietnamese-Speech-to-Text-datasets//ViVOS//converted voices\",\n",
    "    data_directory=\"dataset//Vietnamese-Speech-to-Text-datasets//ViVOS//train.json\",\n",
    "    target_sample_rate=SAMPLE_RATE,\n",
    "    num_samples = NUM_SAMPLE,\n",
    "    transformation=TRANSFORMATION,\n",
    "    vocab=VOCAB\n",
    ")\n",
    "\n",
    "vivos_test = CustomDataset(\n",
    "    audio_directory=\"dataset//Vietnamese-Speech-to-Text-datasets//ViVOS//converted voices\",\n",
    "    data_directory=\"dataset//Vietnamese-Speech-to-Text-datasets//ViVOS//test.json\",\n",
    "    target_sample_rate=SAMPLE_RATE,\n",
    "    num_samples = NUM_SAMPLE,\n",
    "    transformation=TRANSFORMATION,\n",
    "    vocab=VOCAB\n",
    ")"
   ]
  }
 ],
 "metadata": {
  "kernelspec": {
   "display_name": "venv",
   "language": "python",
   "name": "python3"
  },
  "language_info": {
   "codemirror_mode": {
    "name": "ipython",
    "version": 3
   },
   "file_extension": ".py",
   "mimetype": "text/x-python",
   "name": "python",
   "nbconvert_exporter": "python",
   "pygments_lexer": "ipython3",
   "version": "3.12.3"
  }
 },
 "nbformat": 4,
 "nbformat_minor": 2
}
