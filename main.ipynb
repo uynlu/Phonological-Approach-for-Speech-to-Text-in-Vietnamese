{
 "cells": [
  {
   "cell_type": "markdown",
   "metadata": {},
   "source": [
    "# Import modules"
   ]
  },
  {
   "cell_type": "code",
   "execution_count": null,
   "metadata": {},
   "outputs": [],
   "source": [
    "from dataset.speech.convert_mp3_to_wav import convert_mp3_to_wav\n",
    "from dataset.text.vocabulary import Vocabulary\n",
    "from dataset.dataset import CustomDataset"
   ]
  },
  {
   "cell_type": "markdown",
   "metadata": {},
   "source": [
    "# Dataset"
   ]
  },
  {
   "cell_type": "code",
   "execution_count": null,
   "metadata": {},
   "outputs": [],
   "source": [
    "convert_mp3_to_wav(\"dataset//Vietnamese-Speech-to-Text-datasets//Common-Voice\")\n",
    "convert_mp3_to_wav(\"dataset//Vietnamese-Speech-to-Text-datasets//ViVOS\")"
   ]
  },
  {
   "cell_type": "code",
   "execution_count": null,
   "metadata": {},
   "outputs": [],
   "source": [
    "SAMPLE_RATE = 16000\n",
    "NUM_SAMPLE = 55000 # Chưa chọn được\n",
    "TRANSFORMATION = \"MFCC\"\n",
    "VOCAB = Vocabulary()"
   ]
  },
  {
   "cell_type": "code",
   "execution_count": null,
   "metadata": {},
   "outputs": [],
   "source": [
    "common_voice_train = CustomDataset(\n",
    "    audio_directory=\"dataset//Vietnamese-Speech-to-Text-datasets//Common-Voice//converted voices\",\n",
    "    data_directory=\"dataset//Vietnamese-Speech-to-Text-datasets//Common-Voice//train\",\n",
    "    target_sample_rate=SAMPLE_RATE,\n",
    "    num_samples = NUM_SAMPLE,\n",
    "    transformation=TRANSFORMATION,\n",
    "    vocab=VOCAB\n",
    ")\n",
    "\n",
    "common_voice_dev = CustomDataset(\n",
    "    audio_directory=\"dataset//Vietnamese-Speech-to-Text-datasets//Common-Voice//converted voices\",\n",
    "    data_directory=\"dataset//Vietnamese-Speech-to-Text-datasets//Common-Voice//dev\",\n",
    "    target_sample_rate=SAMPLE_RATE,\n",
    "    num_samples = NUM_SAMPLE,\n",
    "    transformation=TRANSFORMATION,\n",
    "    vocab=VOCAB\n",
    ")\n",
    "\n",
    "common_voice_test = CustomDataset(\n",
    "    audio_directory=\"dataset//Vietnamese-Speech-to-Text-datasets//Common-Voice//converted voices\",\n",
    "    data_directory=\"dataset//Vietnamese-Speech-to-Text-datasets//Common-Voice//test\",\n",
    "    target_sample_rate=SAMPLE_RATE,\n",
    "    num_samples = NUM_SAMPLE,\n",
    "    transformation=TRANSFORMATION,\n",
    "    vocab=VOCAB\n",
    ")"
   ]
  },
  {
   "cell_type": "code",
   "execution_count": null,
   "metadata": {},
   "outputs": [
    {
     "ename": "TypeError",
     "evalue": "CustomDataset.__init__() missing 1 required positional argument: 'vocab'",
     "output_type": "error",
     "traceback": [
      "\u001b[1;31m---------------------------------------------------------------------------\u001b[0m",
      "\u001b[1;31mTypeError\u001b[0m                                 Traceback (most recent call last)",
      "Cell \u001b[1;32mIn[3], line 1\u001b[0m\n\u001b[1;32m----> 1\u001b[0m vivos_train \u001b[38;5;241m=\u001b[39m \u001b[43mCustomDataset\u001b[49m\u001b[43m(\u001b[49m\n\u001b[0;32m      2\u001b[0m \u001b[43m    \u001b[49m\u001b[43maudio_directory\u001b[49m\u001b[38;5;241;43m=\u001b[39;49m\u001b[38;5;124;43m\"\u001b[39;49m\u001b[38;5;124;43mdataset//Vietnamese-Speech-to-Text-datasets//ViVOS//converted voices\u001b[39;49m\u001b[38;5;124;43m\"\u001b[39;49m\u001b[43m,\u001b[49m\n\u001b[0;32m      3\u001b[0m \u001b[43m    \u001b[49m\u001b[43mdata_directory\u001b[49m\u001b[38;5;241;43m=\u001b[39;49m\u001b[38;5;124;43m\"\u001b[39;49m\u001b[38;5;124;43mdataset//Vietnamese-Speech-to-Text-datasets//ViVOS//train.json\u001b[39;49m\u001b[38;5;124;43m\"\u001b[39;49m\u001b[43m,\u001b[49m\n\u001b[0;32m      4\u001b[0m \u001b[43m    \u001b[49m\u001b[43mtarget_sample_rate\u001b[49m\u001b[38;5;241;43m=\u001b[39;49m\u001b[43mSAMPLE_RATE\u001b[49m\u001b[43m,\u001b[49m\n\u001b[0;32m      5\u001b[0m \u001b[43m    \u001b[49m\u001b[43mnum_samples\u001b[49m\u001b[43m \u001b[49m\u001b[38;5;241;43m=\u001b[39;49m\u001b[43m \u001b[49m\u001b[43mNUM_SAMPLE\u001b[49m\u001b[43m,\u001b[49m\n\u001b[0;32m      6\u001b[0m \u001b[43m    \u001b[49m\u001b[43mtransformation\u001b[49m\u001b[38;5;241;43m=\u001b[39;49m\u001b[43mTRANSFORMATION\u001b[49m\u001b[43m)\u001b[49m\n\u001b[0;32m      8\u001b[0m vivos_test \u001b[38;5;241m=\u001b[39m CustomDataset(\n\u001b[0;32m      9\u001b[0m     audio_directory\u001b[38;5;241m=\u001b[39m\u001b[38;5;124m\"\u001b[39m\u001b[38;5;124mdataset//Vietnamese-Speech-to-Text-datasets//ViVOS//converted voices\u001b[39m\u001b[38;5;124m\"\u001b[39m,\n\u001b[0;32m     10\u001b[0m     data_directory\u001b[38;5;241m=\u001b[39m\u001b[38;5;124m\"\u001b[39m\u001b[38;5;124mdataset//Vietnamese-Speech-to-Text-datasets//ViVOS//test.json\u001b[39m\u001b[38;5;124m\"\u001b[39m,\n\u001b[0;32m     11\u001b[0m     target_sample_rate\u001b[38;5;241m=\u001b[39mSAMPLE_RATE,\n\u001b[0;32m     12\u001b[0m     num_samples \u001b[38;5;241m=\u001b[39m NUM_SAMPLE,\n\u001b[0;32m     13\u001b[0m     transformation\u001b[38;5;241m=\u001b[39mTRANSFORMATION)\n",
      "\u001b[1;31mTypeError\u001b[0m: CustomDataset.__init__() missing 1 required positional argument: 'vocab'"
     ]
    }
   ],
   "source": [
    "vivos_train = CustomDataset(\n",
    "    audio_directory=\"dataset//Vietnamese-Speech-to-Text-datasets//ViVOS//converted voices\",\n",
    "    data_directory=\"dataset//Vietnamese-Speech-to-Text-datasets//ViVOS//train.json\",\n",
    "    target_sample_rate=SAMPLE_RATE,\n",
    "    num_samples = NUM_SAMPLE,\n",
    "    transformation=TRANSFORMATION,\n",
    "    vocab=VOCAB\n",
    ")\n",
    "\n",
    "vivos_test = CustomDataset(\n",
    "    audio_directory=\"dataset//Vietnamese-Speech-to-Text-datasets//ViVOS//converted voices\",\n",
    "    data_directory=\"dataset//Vietnamese-Speech-to-Text-datasets//ViVOS//test.json\",\n",
    "    target_sample_rate=SAMPLE_RATE,\n",
    "    num_samples = NUM_SAMPLE,\n",
    "    transformation=TRANSFORMATION,\n",
    "    vocab=VOCAB\n",
    ")"
   ]
  },
  {
   "cell_type": "code",
   "execution_count": null,
   "metadata": {},
   "outputs": [],
   "source": []
  }
 ],
 "metadata": {
  "kernelspec": {
   "display_name": "venv",
   "language": "python",
   "name": "python3"
  },
  "language_info": {
   "codemirror_mode": {
    "name": "ipython",
    "version": 3
   },
   "file_extension": ".py",
   "mimetype": "text/x-python",
   "name": "python",
   "nbconvert_exporter": "python",
   "pygments_lexer": "ipython3",
   "version": "3.12.3"
  }
 },
 "nbformat": 4,
 "nbformat_minor": 2
}
